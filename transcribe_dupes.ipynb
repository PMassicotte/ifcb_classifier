{
 "cells": [
  {
   "cell_type": "code",
   "execution_count": 1,
   "metadata": {},
   "outputs": [],
   "source": [
    "import os\n",
    "import pandas as pd\n",
    "from shutil import copy\n",
    "from importlib import reload\n",
    "import classif_output_structs as cos\n",
    "cos = reload(cos)\n",
    "\n",
    "import warnings\n",
    "warnings.filterwarnings('ignore')"
   ]
  },
  {
   "cell_type": "code",
   "execution_count": 15,
   "metadata": {},
   "outputs": [],
   "source": [
    "def combo_dupes(collection, dupes_to_count:list, group_dupes=False):\n",
    "\n",
    "    nested_best_epochs = [series.best_epochs for series in collection.collection]\n",
    "    all_best_epochs = [j for i in nested_best_epochs for j in i]\n",
    "    combo = cos.ComboEpoch( all_best_epochs )\n",
    "    \n",
    "    if group_dupes:\n",
    "        dupes_to_count = [dupes_to_count]\n",
    "    dupe_dict = {}\n",
    "    for dupe_count in dupes_to_count:\n",
    "        df = combo.pairwise_df(skip_correct=True,\n",
    "                         skip_empties=True,\n",
    "                         keep_dupes=dupe_count)\n",
    "        img_dict = df.images.to_dict()\n",
    "        if img_dict: # if it's not empty\n",
    "            if group_dupes:\n",
    "                dupe_count = '-'.join(['{:02}'.format(x) for x in dupe_count])\n",
    "            else: dupe_count = '{:02}'.format(dupe_count)\n",
    "            dupe_dict[dupe_count] = img_dict\n",
    "    \n",
    "    return dupe_dict\n",
    "\n",
    "\n",
    "def transcribe_dupes(dupe_dict, name, root='naughty_export',\n",
    "                     target_dir_format='{} ... {}', dry_run=False):\n",
    "\n",
    "    for dupe_num in dupe_dict:\n",
    "        print();print(80*'=')\n",
    "        print(name, 'dupes:', dupe_num,'\\n')\n",
    "        for ikey,okey in dupe_dict[dupe_num]:\n",
    "            dupe_dir = '{}_dupes'.format(dupe_num)\n",
    "            target_dir = target_dir_format.format(ikey,okey)\n",
    "            target_dir = os.path.join(root,name,dupe_dir,target_dir)\n",
    "            if not dry_run: os.makedirs(target_dir, exist_ok=True)\n",
    "            ipaths = dupe_dict[dupe_num][(ikey,okey)]\n",
    "            #fnames = [os.path.basename(path) for path in ipaths]\n",
    "            #opaths = [os.path.join(root,target_dir,fname) for fname in fnames]\n",
    "            for src in ipaths:\n",
    "                if dry_run: print(src, '\\n\\tEXPORT-TO', target_dir)\n",
    "                else: copy(src, target_dir)\n",
    "        "
   ]
  },
  {
   "cell_type": "code",
   "execution_count": 3,
   "metadata": {},
   "outputs": [
    {
     "name": "stderr",
     "output_type": "stream",
     "text": [
      "/home/sbatchelder/.conda/envs/dataproc/lib/python3.7/site-packages/sklearn/metrics/classification.py:1437: UndefinedMetricWarning: F-score is ill-defined and being set to 0.0 in labels with no predicted samples.\n",
      "  'precision', 'predicted', average, warn_for)\n",
      "/home/sbatchelder/.conda/envs/dataproc/lib/python3.7/site-packages/sklearn/metrics/classification.py:1437: UndefinedMetricWarning: F-score is ill-defined and being set to 0.0 in labels with no predicted samples.\n",
      "  'precision', 'predicted', average, warn_for)\n"
     ]
    },
    {
     "data": {
      "text/plain": [
       "<matplotlib.axes._subplots.AxesSubplot at 0x7fd64020c320>"
      ]
     },
     "execution_count": 3,
     "metadata": {},
     "output_type": "execute_result"
    },
    {
     "data": {
      "image/png": "[encoded data removed]",
      "text/plain": [
       "<Figure size 864x72 with 1 Axes>"
      ]
     },
     "metadata": {
      "needs_background": "light"
     },
     "output_type": "display_data"
    },
    {
     "data": {
      "image/png": "[encoded data removed]",
      "text/plain": [
       "<Figure size 864x72 with 1 Axes>"
      ]
     },
     "metadata": {
      "needs_background": "light"
     },
     "output_type": "display_data"
    }
   ],
   "source": [
    "    \n",
    "coll = cos.Collection(['2019-07-18_5050_A',\n",
    "                       '2019-07-18_5050_B'],\n",
    "                      best_epochs_only=True)\n",
    "\n",
    "coll.boxplot('f1_weighted', start=0.75)\n",
    "coll.boxplot('f1_macro', start=0.75)"
   ]
  },
  {
   "cell_type": "code",
   "execution_count": 13,
   "metadata": {},
   "outputs": [
    {
     "data": {
      "text/plain": [
       "dict_keys(['10-09-08'])"
      ]
     },
     "execution_count": 13,
     "metadata": {},
     "output_type": "execute_result"
    }
   ],
   "source": [
    "\n",
    "cd = combo_dupes(coll,[10,9,8], group_dupes=True)\n",
    "#cd[10][('Amphidinium','Dinophyceae')]\n",
    "cd.keys()"
   ]
  },
  {
   "cell_type": "code",
   "execution_count": 17,
   "metadata": {
    "scrolled": true
   },
   "outputs": [
    {
     "name": "stdout",
     "output_type": "stream",
     "text": [
      "\n",
      "================================================================================\n",
      "July18_dataset dupes: 10-09-08 \n",
      "\n"
     ]
    }
   ],
   "source": [
    "\n",
    "transcribe_dupes(cd, name='July18_dataset')\n"
   ]
  },
  {
   "cell_type": "code",
   "execution_count": null,
   "metadata": {},
   "outputs": [],
   "source": []
  },
  {
   "cell_type": "code",
   "execution_count": null,
   "metadata": {},
   "outputs": [],
   "source": []
  },
  {
   "cell_type": "code",
   "execution_count": null,
   "metadata": {},
   "outputs": [],
   "source": []
  },
  {
   "cell_type": "code",
   "execution_count": null,
   "metadata": {},
   "outputs": [],
   "source": []
  },
  {
   "cell_type": "code",
   "execution_count": null,
   "metadata": {},
   "outputs": [],
   "source": []
  }
 ],
 "metadata": {
  "kernelspec": {
   "display_name": "Python [conda env:dataproc]",
   "language": "python",
   "name": "conda-env-dataproc-py"
  },
  "language_info": {
   "codemirror_mode": {
    "name": "ipython",
    "version": 3
   },
   "file_extension": ".py",
   "mimetype": "text/x-python",
   "name": "python",
   "nbconvert_exporter": "python",
   "pygments_lexer": "ipython3",
   "version": "3.7.3"
  }
 },
 "nbformat": 4,
 "nbformat_minor": 2
}
